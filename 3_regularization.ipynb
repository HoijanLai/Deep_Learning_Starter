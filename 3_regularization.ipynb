{
 "cells": [
  {
   "cell_type": "markdown",
   "metadata": {
    "colab_type": "text",
    "id": "kR-4eNdK6lYS"
   },
   "source": [
    "Deep Learning\n",
    "=============\n",
    "\n",
    "Assignment 3\n",
    "------------\n",
    "\n",
    "Previously in `2_fullyconnected.ipynb`, you trained a logistic regression and a neural network model.\n",
    "\n",
    "The goal of this assignment is to explore regularization techniques."
   ]
  },
  {
   "cell_type": "code",
   "execution_count": 2,
   "metadata": {
    "cellView": "both",
    "colab": {
     "autoexec": {
      "startup": false,
      "wait_interval": 0
     }
    },
    "colab_type": "code",
    "collapsed": true,
    "id": "JLpLa8Jt7Vu4"
   },
   "outputs": [],
   "source": [
    "# These are all the modules we'll be using later. Make sure you can import them\n",
    "# before proceeding further.\n",
    "from __future__ import print_function\n",
    "import numpy as np\n",
    "import tensorflow as tf\n",
    "from six.moves import cPickle as pickle"
   ]
  },
  {
   "cell_type": "markdown",
   "metadata": {
    "colab_type": "text",
    "id": "1HrCK6e17WzV"
   },
   "source": [
    "First reload the data we generated in _notmist.ipynb_."
   ]
  },
  {
   "cell_type": "code",
   "execution_count": 3,
   "metadata": {
    "cellView": "both",
    "colab": {
     "autoexec": {
      "startup": false,
      "wait_interval": 0
     },
     "output_extras": [
      {
       "item_id": 1
      }
     ]
    },
    "colab_type": "code",
    "collapsed": false,
    "executionInfo": {
     "elapsed": 11777,
     "status": "ok",
     "timestamp": 1449849322348,
     "user": {
      "color": "",
      "displayName": "",
      "isAnonymous": false,
      "isMe": true,
      "permissionId": "",
      "photoUrl": "",
      "sessionId": "0",
      "userId": ""
     },
     "user_tz": 480
    },
    "id": "y3-cj1bpmuxc",
    "outputId": "e03576f1-ebbe-4838-c388-f1777bcc9873"
   },
   "outputs": [
    {
     "name": "stdout",
     "output_type": "stream",
     "text": [
      "Training set (200000, 28, 28) (200000,)\n",
      "Validation set (10000, 28, 28) (10000,)\n",
      "Test set (10000, 28, 28) (10000,)\n"
     ]
    }
   ],
   "source": [
    "pickle_file = 'notMNIST.pickle'\n",
    "\n",
    "with open(pickle_file, 'rb') as f:\n",
    "  save = pickle.load(f)\n",
    "  train_dataset = save['train_dataset']\n",
    "  train_labels = save['train_labels']\n",
    "  valid_dataset = save['valid_dataset']\n",
    "  valid_labels = save['valid_labels']\n",
    "  test_dataset = save['test_dataset']\n",
    "  test_labels = save['test_labels']\n",
    "  del save  # hint to help gc free up memory\n",
    "  print('Training set', train_dataset.shape, train_labels.shape)\n",
    "  print('Validation set', valid_dataset.shape, valid_labels.shape)\n",
    "  print('Test set', test_dataset.shape, test_labels.shape)"
   ]
  },
  {
   "cell_type": "markdown",
   "metadata": {
    "colab_type": "text",
    "id": "L7aHrm6nGDMB"
   },
   "source": [
    "Reformat into a shape that's more adapted to the models we're going to train:\n",
    "- data as a flat matrix,\n",
    "- labels as float 1-hot encodings."
   ]
  },
  {
   "cell_type": "code",
   "execution_count": 4,
   "metadata": {
    "cellView": "both",
    "colab": {
     "autoexec": {
      "startup": false,
      "wait_interval": 0
     },
     "output_extras": [
      {
       "item_id": 1
      }
     ]
    },
    "colab_type": "code",
    "collapsed": false,
    "executionInfo": {
     "elapsed": 11728,
     "status": "ok",
     "timestamp": 1449849322356,
     "user": {
      "color": "",
      "displayName": "",
      "isAnonymous": false,
      "isMe": true,
      "permissionId": "",
      "photoUrl": "",
      "sessionId": "0",
      "userId": ""
     },
     "user_tz": 480
    },
    "id": "IRSyYiIIGIzS",
    "outputId": "3f8996ee-3574-4f44-c953-5c8a04636582"
   },
   "outputs": [
    {
     "name": "stdout",
     "output_type": "stream",
     "text": [
      "Training set (200000, 784) (200000, 10)\n",
      "Validation set (10000, 784) (10000, 10)\n",
      "Test set (10000, 784) (10000, 10)\n"
     ]
    }
   ],
   "source": [
    "image_size = 28\n",
    "num_labels = 10\n",
    "\n",
    "def reformat(dataset, labels):\n",
    "  dataset = dataset.reshape((-1, image_size * image_size)).astype(np.float32)\n",
    "  # Map 2 to [0.0, 1.0, 0.0 ...], 3 to [0.0, 0.0, 1.0 ...]\n",
    "  labels = (np.arange(num_labels) == labels[:,None]).astype(np.float32)\n",
    "  return dataset, labels\n",
    "train_dataset, train_labels = reformat(train_dataset, train_labels)\n",
    "valid_dataset, valid_labels = reformat(valid_dataset, valid_labels)\n",
    "test_dataset, test_labels = reformat(test_dataset, test_labels)\n",
    "print('Training set', train_dataset.shape, train_labels.shape)\n",
    "print('Validation set', valid_dataset.shape, valid_labels.shape)\n",
    "print('Test set', test_dataset.shape, test_labels.shape)"
   ]
  },
  {
   "cell_type": "code",
   "execution_count": 5,
   "metadata": {
    "cellView": "both",
    "colab": {
     "autoexec": {
      "startup": false,
      "wait_interval": 0
     }
    },
    "colab_type": "code",
    "collapsed": false,
    "id": "RajPLaL_ZW6w"
   },
   "outputs": [],
   "source": [
    "def accuracy(predictions, labels):\n",
    "  return (100.0 * np.sum(np.argmax(predictions, 1) == np.argmax(labels, 1))\n",
    "          / predictions.shape[0])"
   ]
  },
  {
   "cell_type": "markdown",
   "metadata": {
    "colab_type": "text",
    "id": "sgLbUAQ1CW-1"
   },
   "source": [
    "---\n",
    "\n",
    "---------\n",
    "\n",
    "Introduce and tune L2 regularization for both logistic and neural network models. Remember that L2 amounts to adding a penalty on the norm of the weights to the loss. In TensorFlow, you can compute the L2 loss for a tensor `t` using `nn.l2_loss(t)`. The right amount of regularization should improve your validation / test accuracy.\n",
    "\n",
    "---"
   ]
  },
  {
   "cell_type": "code",
   "execution_count": 25,
   "metadata": {
    "collapsed": false
   },
   "outputs": [
    {
     "name": "stdout",
     "output_type": "stream",
     "text": [
      "Initialized\n",
      "Minibatch loss at step 0: 2.332729\n",
      "Minibatch accuracy: 9.0%\n",
      "Validation accuracy: 10.0%\n",
      "Minibatch loss at step 500: 0.597687\n",
      "Minibatch accuracy: 82.2%\n",
      "Validation accuracy: 84.1%\n",
      "Minibatch loss at step 1000: 0.590366\n",
      "Minibatch accuracy: 81.2%\n",
      "Validation accuracy: 85.5%\n",
      "Minibatch loss at step 1500: 0.424478\n",
      "Minibatch accuracy: 88.1%\n",
      "Validation accuracy: 86.5%\n",
      "Minibatch loss at step 2000: 0.478335\n",
      "Minibatch accuracy: 85.5%\n",
      "Validation accuracy: 87.0%\n",
      "Minibatch loss at step 2500: 0.387091\n",
      "Minibatch accuracy: 87.7%\n",
      "Validation accuracy: 87.4%\n",
      "Minibatch loss at step 3000: 0.379514\n",
      "Minibatch accuracy: 88.1%\n",
      "Validation accuracy: 87.9%\n",
      "Minibatch loss at step 3500: 0.414403\n",
      "Minibatch accuracy: 88.1%\n",
      "Validation accuracy: 88.2%\n",
      "Minibatch loss at step 4000: 0.419599\n",
      "Minibatch accuracy: 87.3%\n",
      "Validation accuracy: 88.5%\n",
      "Minibatch loss at step 4500: 0.407107\n",
      "Minibatch accuracy: 86.9%\n",
      "Validation accuracy: 88.8%\n",
      "Minibatch loss at step 5000: 0.400808\n",
      "Minibatch accuracy: 87.5%\n",
      "Validation accuracy: 88.9%\n",
      "Minibatch loss at step 5500: 0.341172\n",
      "Minibatch accuracy: 89.5%\n",
      "Validation accuracy: 89.0%\n",
      "Minibatch loss at step 6000: 0.377701\n",
      "Minibatch accuracy: 87.7%\n",
      "Validation accuracy: 89.1%\n",
      "Minibatch loss at step 6500: 0.336970\n",
      "Minibatch accuracy: 89.3%\n",
      "Validation accuracy: 89.2%\n",
      "Minibatch loss at step 7000: 0.265446\n",
      "Minibatch accuracy: 91.4%\n",
      "Validation accuracy: 89.4%\n",
      "Minibatch loss at step 7500: 0.330610\n",
      "Minibatch accuracy: 90.2%\n",
      "Validation accuracy: 89.3%\n",
      "Minibatch loss at step 8000: 0.303430\n",
      "Minibatch accuracy: 90.6%\n",
      "Validation accuracy: 89.5%\n",
      "Minibatch loss at step 8500: 0.343042\n",
      "Minibatch accuracy: 90.0%\n",
      "Validation accuracy: 89.7%\n",
      "Minibatch loss at step 9000: 0.293441\n",
      "Minibatch accuracy: 91.4%\n",
      "Validation accuracy: 89.7%\n",
      "Minibatch loss at step 9500: 0.308831\n",
      "Minibatch accuracy: 90.2%\n",
      "Validation accuracy: 89.7%\n",
      "Minibatch loss at step 10000: 0.267649\n",
      "Minibatch accuracy: 92.6%\n",
      "Validation accuracy: 89.8%\n",
      "Minibatch loss at step 10500: 0.301986\n",
      "Minibatch accuracy: 92.0%\n",
      "Validation accuracy: 90.0%\n",
      "Minibatch loss at step 11000: 0.280071\n",
      "Minibatch accuracy: 92.0%\n",
      "Validation accuracy: 90.1%\n",
      "Minibatch loss at step 11500: 0.250836\n",
      "Minibatch accuracy: 92.2%\n",
      "Validation accuracy: 90.2%\n",
      "Minibatch loss at step 12000: 0.344630\n",
      "Minibatch accuracy: 89.5%\n",
      "Validation accuracy: 90.0%\n",
      "Minibatch loss at step 12500: 0.325716\n",
      "Minibatch accuracy: 89.1%\n",
      "Validation accuracy: 90.1%\n",
      "Minibatch loss at step 13000: 0.325978\n",
      "Minibatch accuracy: 89.8%\n",
      "Validation accuracy: 90.1%\n",
      "Minibatch loss at step 13500: 0.255637\n",
      "Minibatch accuracy: 92.0%\n",
      "Validation accuracy: 90.1%\n",
      "Minibatch loss at step 14000: 0.277187\n",
      "Minibatch accuracy: 91.8%\n",
      "Validation accuracy: 90.2%\n",
      "Minibatch loss at step 14500: 0.272447\n",
      "Minibatch accuracy: 92.2%\n",
      "Validation accuracy: 90.3%\n",
      "Minibatch loss at step 15000: 0.329609\n",
      "Minibatch accuracy: 89.5%\n",
      "Validation accuracy: 90.4%\n",
      "Minibatch loss at step 15500: 0.323652\n",
      "Minibatch accuracy: 90.4%\n",
      "Validation accuracy: 90.3%\n",
      "Minibatch loss at step 16000: 0.262835\n",
      "Minibatch accuracy: 91.2%\n",
      "Validation accuracy: 90.3%\n",
      "Test accuracy: 95.7%\n"
     ]
    }
   ],
   "source": [
    "batch_size = 512\n",
    "layers = 5 # number layers, including inputs\n",
    "layer_nodes = [image_size*image_size, 1024, 1024, 512, 512]\n",
    "actv_func = [tf.nn.relu, tf.nn.tanh, tf.nn.sigmoid, tf.nn.relu, tf.nn.relu]\n",
    "l2_lmbd = [0.00001, 0.00001, 0.00001, 0.00001, 0.00001]\n",
    "\n",
    "def nn_transform(tf_train_dataset, dropout = False):\n",
    "    logits = tf_train_dataset\n",
    "    for i in range(layers):\n",
    "        logits = tf.matmul(logits, weights[i]) + biases[i]\n",
    "        if i != layers-1: \n",
    "            logits = tf.nn.dropout(actv_func[i](logits), 0.5) if dropout else actv_func[i](logits)\n",
    "    return logits\n",
    "        \n",
    "# create a graph(tensorflow concept) to compute on\n",
    "graph = tf.Graph()\n",
    "with graph.as_default():\n",
    "    \n",
    "    # this placeholder acts as a layer abstraction for the nn\n",
    "    tf_train_dataset = tf.placeholder(tf.float32, shape = (batch_size, layer_nodes[0]))    \n",
    "    tf_train_labels = tf.placeholder(tf.float32, shape = (batch_size, num_labels))\n",
    "    \n",
    "    tf_valid_dataset = tf.constant(valid_dataset)\n",
    "    tf_test_dataset = tf.constant(test_dataset)\n",
    "    \n",
    "    # next we create the connecting params between layers\n",
    "    weights = [tf.Variable(tf.truncated_normal([layer_nodes[i], layer_nodes[i + 1]], stddev = 0.03)) for i in range(layers - 1)]\\\n",
    "               + [tf.Variable(tf.truncated_normal([layer_nodes[-1], num_labels], stddev = 0.03))]          \n",
    "     \n",
    "    biases = [tf.Variable(tf.zeros([layer_nodes[i]])) for i in range(1,layers)]\\\n",
    "              + [tf.Variable(tf.zeros([num_labels]))]\n",
    "    \n",
    "    \n",
    "    logits = nn_transform(tf_train_dataset, True)\n",
    "    \n",
    "    loss = tf.reduce_mean(tf.nn.softmax_cross_entropy_with_logits(logits, tf_train_labels))\\\n",
    "      + sum([l2_lmbd[i]*tf.nn.l2_loss(weights[i]) for i in range(layers)])\n",
    "        \n",
    "    global_step = tf.Variable(0)  # count the number of steps taken.\n",
    "    learning_rate = tf.train.exponential_decay(0.5, global_step, 1000, 0.96)\n",
    "    optimizer = tf.train.GradientDescentOptimizer(learning_rate).minimize(loss, global_step=global_step)\n",
    "    \n",
    "    train_prediction = tf.nn.softmax(logits)\n",
    "    valid_prediction = tf.nn.softmax(nn_transform(tf_valid_dataset))\n",
    "    test_prediction = tf.nn.softmax(nn_transform(tf_test_dataset))\n",
    "    \n",
    "    \n",
    "num_steps = 16001\n",
    "\n",
    "with tf.Session(graph=graph) as session:\n",
    "    tf.initialize_all_variables().run()\n",
    "    print(\"Initialized\")\n",
    "    for step in range(num_steps):\n",
    "        # Pick an offset within the training data, which has been randomized.\n",
    "        # Note: we could use better randomization across epochs.\n",
    "        offset = (step * batch_size) % (train_labels.shape[0] - batch_size)\n",
    "        # Generate a minibatch.\n",
    "        batch_data = train_dataset[offset:(offset + batch_size), :]\n",
    "        batch_labels = train_labels[offset:(offset + batch_size), :]\n",
    "        # Prepare a dictionary telling the session where to feed the minibatch.\n",
    "        # The key of the dictionary is the placeholder node of the graph to be fed,\n",
    "        # and the value is the numpy array to feed to it.\n",
    "        feed_dict = {tf_train_dataset : batch_data, tf_train_labels : batch_labels}\n",
    "        _, l, predictions = session.run([optimizer, loss, train_prediction], feed_dict=feed_dict)\n",
    "        if (step % 500 == 0):\n",
    "            print(\"Minibatch loss at step %d: %f\" % (step, l))\n",
    "            print(\"Minibatch accuracy: %.1f%%\" % accuracy(predictions, batch_labels))\n",
    "            print(\"Validation accuracy: %.1f%%\" % accuracy(valid_prediction.eval(), valid_labels))\n",
    "    print(\"Test accuracy: %.1f%%\" % accuracy(test_prediction.eval(), test_labels))"
   ]
  },
  {
   "cell_type": "markdown",
   "metadata": {
    "colab_type": "text",
    "id": "na8xX2yHZzNF"
   },
   "source": [
    "---\n",
    "\n",
    "---------\n",
    "Let's demonstrate an extreme case of overfitting. Restrict your training data to just a few batches. What happens?\n",
    "\n",
    "---"
   ]
  },
  {
   "cell_type": "markdown",
   "metadata": {
    "colab_type": "text",
    "id": "ww3SCBUdlkRc"
   },
   "source": [
    "---\n",
    "\n",
    "---------\n",
    "Introduce Dropout on the hidden layer of the neural network. Remember: Dropout should only be introduced during training, not evaluation, otherwise your evaluation results would be stochastic as well. TensorFlow provides `nn.dropout()` for that, but you have to make sure it's only inserted during training.\n",
    "\n",
    "What happens to our extreme overfitting case?\n",
    "\n",
    "---"
   ]
  },
  {
   "cell_type": "markdown",
   "metadata": {
    "colab_type": "text",
    "id": "-b1hTz3VWZjw"
   },
   "source": [
    "---\n",
    "\n",
    "---------\n",
    "\n",
    "Try to get the best performance you can using a multi-layer model! The best reported test accuracy using a deep network is [97.1%](http://yaroslavvb.blogspot.com/2011/09/notmnist-dataset.html?showComment=1391023266211#c8758720086795711595).\n",
    "\n",
    "One avenue you can explore is to add multiple layers.\n",
    "\n",
    "Another one is to use learning rate decay:\n",
    "\n",
    "    global_step = tf.Variable(0)  # count the number of steps taken.\n",
    "    learning_rate = tf.train.exponential_decay(0.5, global_step, ...)\n",
    "    optimizer = tf.train.GradientDescentOptimizer(learning_rate).minimize(loss, global_step=global_step)\n",
    " \n",
    " ---\n"
   ]
  },
  {
   "cell_type": "code",
   "execution_count": null,
   "metadata": {
    "collapsed": true
   },
   "outputs": [],
   "source": []
  }
 ],
 "metadata": {
  "anaconda-cloud": {},
  "colab": {
   "default_view": {},
   "name": "3_regularization.ipynb",
   "provenance": [],
   "version": "0.3.2",
   "views": {}
  },
  "kernelspec": {
   "display_name": "Python [default]",
   "language": "python",
   "name": "python2"
  },
  "language_info": {
   "codemirror_mode": {
    "name": "ipython",
    "version": 2
   },
   "file_extension": ".py",
   "mimetype": "text/x-python",
   "name": "python",
   "nbconvert_exporter": "python",
   "pygments_lexer": "ipython2",
   "version": "2.7.12"
  }
 },
 "nbformat": 4,
 "nbformat_minor": 0
}
